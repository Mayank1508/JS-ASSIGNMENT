{
 "cells": [
  {
   "cell_type": "code",
   "execution_count": 3,
   "metadata": {},
   "outputs": [
    {
     "name": "stdout",
     "output_type": "stream",
     "text": [
      "1 - Rock\n",
      "2 - Paper\n",
      "3 - Scissors\n",
      "Put your choice:0\n",
      "We only accept commands between 1 and 3, according to the table, type again\n",
      "Put your choice:1\n",
      "The player chose rock\n",
      "The computer chose scissors\n",
      "Score:\n",
      "Player: 1 \n",
      "Computer: 0\n",
      "Type 0 to stop the program, type any another number to keep playing0\n"
     ]
    }
   ],
   "source": [
    "# silver project\n",
    "import random\n",
    "\n",
    "\n",
    "def player_choice(user_choice):  \n",
    "    if user_choice == 1:\n",
    "        print(\"The player chose rock\")\n",
    "    elif user_choice == 2:\n",
    "        print(\"The player chose paper\")\n",
    "    else:\n",
    "        print(\"The player chose scissors\")\n",
    "\n",
    "\n",
    "def computer_choice(cpu_choice):  \n",
    "    if cpu_choice == 1:\n",
    "        print(\"The computer chose rock\")\n",
    "    elif cpu_choice == 2:\n",
    "        print(\"The computer chose paper\")\n",
    "    else:\n",
    "        print(\"The computer chose scissors\")\n",
    "\n",
    "\n",
    "def result(user_choice, cpu_choice, player_score, cpu_score):  \n",
    "    if user_choice == cpu_choice:\n",
    "        return [player_score + 0.5, cpu_score + 0.5]\n",
    "    elif user_choice == 1 and cpu_choice == 3:\n",
    "        return [player_score + 1, cpu_score]\n",
    "    elif user_choice == 2 and cpu_choice == 1:\n",
    "        return [player_score + 1, cpu_score]\n",
    "    elif user_choice == 3 and cpu_choice == 2:\n",
    "        return [player_score + 1, cpu_score]\n",
    "    else:\n",
    "        return [player_score, cpu_score + 1]\n",
    "\n",
    "\n",
    "def print_score(p_score, c_score): \n",
    "    print(\"Score:\"\"\\nPlayer:\", p_score, \"\\nComputer:\", c_score)\n",
    "\n",
    "\n",
    "def validation_input():\n",
    "    while True:\n",
    "        try:\n",
    "            user_input = int(input(\"Put your choice:\"))\n",
    "            if user_input not in range(1, 4):\n",
    "                print(\"We only accept commands between 1 and 3, according to the table, type again\")\n",
    "                continue\n",
    "            if type(user_input) == int:\n",
    "                break\n",
    "        except ValueError:\n",
    "            print(\"We only accept exact numbers\")\n",
    "            continue\n",
    "    return user_input\n",
    "\n",
    "\n",
    "print('''1 - Rock\n",
    "2 - Paper\n",
    "3 - Scissors''') \n",
    "human_score = 0\n",
    "computer_score = 0\n",
    "while True:\n",
    "    user = validation_input()\n",
    "    player_choice(user)\n",
    "    ai = random.randint(1, 3)\n",
    "    computer_choice(ai)\n",
    "    human_score, computer_score = result(user, ai, human_score, computer_score)  # Accumulate the score\n",
    "    print_score(human_score, computer_score)\n",
    "    command = int(input(\"Type 0 to stop the program, type any another number to keep playing\"))\n",
    "    if command == 0:\n",
    "        break"
   ]
  },
  {
   "cell_type": "code",
   "execution_count": null,
   "metadata": {},
   "outputs": [],
   "source": []
  }
 ],
 "metadata": {
  "kernelspec": {
   "display_name": "Python 3",
   "language": "python",
   "name": "python3"
  },
  "language_info": {
   "codemirror_mode": {
    "name": "ipython",
    "version": 3
   },
   "file_extension": ".py",
   "mimetype": "text/x-python",
   "name": "python",
   "nbconvert_exporter": "python",
   "pygments_lexer": "ipython3",
   "version": "3.8.3"
  }
 },
 "nbformat": 4,
 "nbformat_minor": 4
}
