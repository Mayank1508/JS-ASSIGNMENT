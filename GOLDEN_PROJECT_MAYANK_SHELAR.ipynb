{
  "nbformat": 4,
  "nbformat_minor": 0,
  "metadata": {
    "kernelspec": {
      "display_name": "Python 3",
      "language": "python",
      "name": "python3"
    },
    "language_info": {
      "codemirror_mode": {
        "name": "ipython",
        "version": 3
      },
      "file_extension": ".py",
      "mimetype": "text/x-python",
      "name": "python",
      "nbconvert_exporter": "python",
      "pygments_lexer": "ipython3",
      "version": "3.7.6"
    },
    "colab": {
      "name": "GOLDEN PROJECT MAYANK SHELAR.ipynb",
      "provenance": [],
      "include_colab_link": true
    }
  },
  "cells": [
    {
      "cell_type": "markdown",
      "metadata": {
        "id": "view-in-github",
        "colab_type": "text"
      },
      "source": [
        "<a href=\"https://colab.research.google.com/github/Mayank1508/JS-ASSIGNMENT/blob/master/GOLDEN_PROJECT_MAYANK_SHELAR.ipynb\" target=\"_parent\"><img src=\"https://colab.research.google.com/assets/colab-badge.svg\" alt=\"Open In Colab\"/></a>"
      ]
    },
    {
      "cell_type": "code",
      "metadata": {
        "id": "98zIkXEuRZQo",
        "colab_type": "code",
        "colab": {},
        "outputId": "15337288-afe5-4651-d0e4-9c7ff3a641d3"
      },
      "source": [
        "def convert(word):\n",
        "    out=''\n",
        "    for i in word:\n",
        "        i1=ord(i)\n",
        "        i2=ord(i)\n",
        "        j=ord(i)\n",
        "        if j in primes:\n",
        "            out+=i\n",
        "        else:\n",
        "            while i1 not in primes and i1>67: \n",
        "                i1 -= 1 \n",
        "            while i2 not in primes and i2<113: \n",
        "                i2 += 1 \n",
        "            if j>113: \n",
        "                out+='q'\n",
        "            elif j-i1>i2-j or j<67: \n",
        "                out+=chr(i2)\n",
        "            else: \n",
        "                out+=chr(i1)\n",
        "    return out\n",
        " \n",
        "primes=[67,71,73,79,83,89,97,101,103,107,109,113]\n",
        "final=[]\n",
        "t=int(input())\n",
        "for _ in range(t):\n",
        "    n=int(input())\n",
        "    S=input()\n",
        "    final.append(convert(S))\n",
        " \n",
        "    for i in final:\n",
        "        print(i)"
      ],
      "execution_count": null,
      "outputs": [
        {
          "output_type": "stream",
          "text": [
            "1\n",
            "6\n",
            "AFREEN\n",
            "CGSCCO\n"
          ],
          "name": "stdout"
        }
      ]
    },
    {
      "cell_type": "code",
      "metadata": {
        "id": "7KGG_333RZQt",
        "colab_type": "code",
        "colab": {}
      },
      "source": [
        ""
      ],
      "execution_count": null,
      "outputs": []
    }
  ]
}